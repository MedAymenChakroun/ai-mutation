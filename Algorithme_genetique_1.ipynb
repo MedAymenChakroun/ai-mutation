{
 "cells": [
  {
   "cell_type": "code",
   "execution_count": 10,
   "metadata": {
    "id": "3K1Mcv9dDFi1"
   },
   "outputs": [],
   "source": [
    "import random\n",
    "import numpy as np\n",
    "\n"
   ]
  },
  {
   "cell_type": "code",
   "execution_count": 11,
   "metadata": {
    "id": "WfdSB6AIDxik"
   },
   "outputs": [],
   "source": [
    "\n",
    "# Matrice de distances entre les villes (exemple avec 4 villes)\n",
    "distance_matrix = [\n",
    "    [0, 10, 15, 20],\n",
    "    [10, 0, 35, 25],\n",
    "    [15, 35, 0, 30],\n",
    "    [20, 25, 30, 0]\n",
    "]\n",
    "\n",
    "# Paramètres de l'algorithme génétique\n",
    "population_size = 50  # Taille de la population\n",
    "num_generations = 1000  # Nombre de générations\n",
    "mutation_rate = 0.1  # Taux de mutation\n"
   ]
  },
  {
   "cell_type": "code",
   "execution_count": 15,
   "metadata": {
    "id": "pnpz_UhcEEP1"
   },
   "outputs": [],
   "source": [
    "\n",
    "# Fonction pour calculer la longueur d'un parcours\n",
    "def tour_length(tour, distance_matrix):\n",
    "    length = 0\n",
    "    for i in range(len(tour) - 1):\n",
    "        from_city = tour[i]\n",
    "        to_city = tour[i + 1]\n",
    "        length += distance_matrix[from_city][to_city]\n",
    "    length += distance_matrix[tour[-1]][tour[0]]  # Retour à la ville de départ\n",
    "    return length\n",
    "\n"
   ]
  },
  {
   "cell_type": "code",
   "execution_count": 17,
   "metadata": {
    "id": "ISOHwpxlEIyi"
   },
   "outputs": [],
   "source": [
    "# Fonction pour générer une population initiale aléatoire\n",
    "def generate_population(population_size, num_cities):\n",
    "    population = []\n",
    "    for _ in range(population_size):\n",
    "        tour = list(range(num_cities))\n",
    "        random.shuffle(tour)\n",
    "        population.append(tour)\n",
    "        print(tour)\n",
    "    return population\n"
   ]
  },
  {
   "cell_type": "code",
   "execution_count": 14,
   "metadata": {
    "id": "rm2Roq9OEMAg"
   },
   "outputs": [],
   "source": [
    "\n",
    "# Fonction pour sélectionner les parents par tournoi\n",
    "def select_parents(population, num_parents):\n",
    "    parents = []\n",
    "    for _ in range(num_parents):\n",
    "        tournament = random.sample(population, 3)  # Sélection de 3 individus au hasard\n",
    "        tournament.sort(key=lambda x: tour_length(x, distance_matrix))  # Tri par longueur du parcours\n",
    "        parents.append(tournament[0])  # Le meilleur individu du tournoi est sélectionné\n",
    "    return parents\n"
   ]
  },
  {
   "cell_type": "code",
   "execution_count": 7,
   "metadata": {
    "id": "w65EQQWYERRA"
   },
   "outputs": [],
   "source": [
    "\n",
    "# Fonction pour effectuer un croisement (crossover) partiel\n",
    "def crossover(parent1, parent2):\n",
    "    num_cities = len(parent1)\n",
    "    start = random.randint(0, num_cities - 1)\n",
    "    end = random.randint(start + 1, num_cities)\n",
    "    child = [-1] * num_cities\n",
    "\n",
    "    # Copie des gènes du premier parent dans la plage sélectionée\n",
    "    for i in range(start, end):\n",
    "        child[i] = parent1[i]\n",
    "\n",
    "    # Remplissage des gènes manquants du deuxième parent\n",
    "    j = 0\n",
    "    for i in range(num_cities):\n",
    "        if child[i] == -1:\n",
    "            while parent2[j] in child:\n",
    "                j += 1\n",
    "            child[i] = parent2[j]\n",
    "\n",
    "    return child\n"
   ]
  },
  {
   "cell_type": "code",
   "execution_count": 8,
   "metadata": {
    "id": "4e5tf1CfEW9N"
   },
   "outputs": [],
   "source": [
    "\n",
    "# Fonction pour effectuer une mutation (échange de deux gènes)\n",
    "def mutate(tour):\n",
    "    num_cities = len(tour)\n",
    "    if random.random() < mutation_rate:\n",
    "        i, j = random.sample(range(num_cities), 2)\n",
    "        tour[i], tour[j] = tour[j], tour[i]\n",
    "\n",
    "# Algorithme génétique pour résoudre le TSP\n",
    "def tsp_genetic_algorithm(distance_matrix, population_size, num_generations, mutation_rate):\n",
    "    num_cities = len(distance_matrix)\n",
    "    population = generate_population(population_size, num_cities)\n",
    "\n",
    "    for generation in range(num_generations):\n",
    "        parents = select_parents(population, population_size // 2)\n",
    "        new_population = parents.copy()\n",
    "\n",
    "        while len(new_population) < population_size:\n",
    "            parent1, parent2 = random.sample(parents, 2)\n",
    "            child = crossover(parent1, parent2)\n",
    "            mutate(child)\n",
    "            new_population.append(child)\n",
    "\n",
    "        population = new_population\n",
    "\n",
    "    # Recherche de la meilleure solution dans la population finale\n",
    "    best_tour = min(population, key=lambda x: tour_length(x, distance_matrix))\n",
    "    best_length = tour_length(best_tour, distance_matrix)\n",
    "\n",
    "    return best_tour, best_length\n",
    "\n"
   ]
  },
  {
   "cell_type": "code",
   "execution_count": 9,
   "metadata": {
    "colab": {
     "base_uri": "https://localhost:8080/"
    },
    "id": "VfnqMzrfEdMR",
    "outputId": "e7327f8c-b5b8-44ff-ae36-3f231b682983"
   },
   "outputs": [
    {
     "name": "stdout",
     "output_type": "stream",
     "text": [
      "Meilleur parcours : [2, 3, 1, 0]\n",
      "Longueur du meilleur parcours : 80\n"
     ]
    }
   ],
   "source": [
    "# Appel de l'algorithme génétique\n",
    "best_tour, best_length = tsp_genetic_algorithm(distance_matrix, population_size, num_generations, mutation_rate)\n",
    "\n",
    "print(\"Meilleur parcours :\", best_tour)\n",
    "print(\"Longueur du meilleur parcours :\", best_length)"
   ]
  }
 ],
 "metadata": {
  "colab": {
   "provenance": []
  },
  "kernelspec": {
   "display_name": "Python 3 (ipykernel)",
   "language": "python",
   "name": "python3"
  },
  "language_info": {
   "codemirror_mode": {
    "name": "ipython",
    "version": 3
   },
   "file_extension": ".py",
   "mimetype": "text/x-python",
   "name": "python",
   "nbconvert_exporter": "python",
   "pygments_lexer": "ipython3",
   "version": "3.11.5"
  }
 },
 "nbformat": 4,
 "nbformat_minor": 1
}
